{
  "nbformat": 4,
  "nbformat_minor": 0,
  "metadata": {
    "colab": {
      "name": "speech_labeling_model.ipynb",
      "provenance": [],
      "include_colab_link": true
    },
    "kernelspec": {
      "name": "python3",
      "display_name": "Python 3"
    },
    "language_info": {
      "name": "python"
    }
  },
  "cells": [
    {
      "cell_type": "markdown",
      "metadata": {
        "id": "view-in-github",
        "colab_type": "text"
      },
      "source": [
        "<a href=\"https://colab.research.google.com/github/khushi6120-cloud/Tech-assesment/blob/main/speech_labeling_model.ipynb\" target=\"_parent\"><img src=\"https://colab.research.google.com/assets/colab-badge.svg\" alt=\"Open In Colab\"/></a>"
      ]
    },
    {
      "cell_type": "markdown",
      "source": [
        "## Installing libraries"
      ],
      "metadata": {
        "id": "_vgSoq4oPDDJ"
      }
    },
    {
      "cell_type": "code",
      "execution_count": 1,
      "metadata": {
        "id": "GX5bkl41pMyM"
      },
      "outputs": [],
      "source": [
        "import numpy as np\n",
        "import matplotlib.pyplot as plt\n",
        "import pandas as pd\n",
        "import tensorflow as tf\n",
        "from tensorflow import keras"
      ]
    },
    {
      "cell_type": "code",
      "source": [
        "!pip install speechrecognition\n",
        "import speech_recognition as sr"
      ],
      "metadata": {
        "colab": {
          "base_uri": "https://localhost:8080/"
        },
        "id": "MD0fYllBGgvO",
        "outputId": "218f6f92-9d41-486b-ff5c-9304fc4e5ef0"
      },
      "execution_count": 2,
      "outputs": [
        {
          "output_type": "stream",
          "name": "stdout",
          "text": [
            "Collecting speechrecognition\n",
            "  Downloading SpeechRecognition-3.8.1-py2.py3-none-any.whl (32.8 MB)\n",
            "\u001b[K     |████████████████████████████████| 32.8 MB 123 kB/s \n",
            "\u001b[?25hInstalling collected packages: speechrecognition\n",
            "Successfully installed speechrecognition-3.8.1\n"
          ]
        }
      ]
    },
    {
      "cell_type": "markdown",
      "source": [
        "## GPU Training ==="
      ],
      "metadata": {
        "id": "hwmpRTPWbogy"
      }
    },
    {
      "cell_type": "markdown",
      "source": [
        "## Loading dataset"
      ],
      "metadata": {
        "id": "Ahj14dLIPMxk"
      }
    },
    {
      "cell_type": "code",
      "source": [
        "dataset_train = pd.read_csv('train_data.csv')\n",
        "\n",
        "# In complete model replace X_train with a speech to text model's output so that model would work on that\n",
        "\n",
        "X_train_temp = dataset_train.iloc[:, 1:2].values # 1:2 writter as python ignors the upper bound\n",
        "# values -- it is done so to make a numpy array rather than a simple vector\n",
        "paths = dataset_train.iloc[:,0:1]"
      ],
      "metadata": {
        "id": "ZjwSWHC2qkNf"
      },
      "execution_count": 35,
      "outputs": []
    },
    {
      "cell_type": "code",
      "source": [
        "r = sr.Recognizer()"
      ],
      "metadata": {
        "id": "JYB8gDNdGsIC"
      },
      "execution_count": 4,
      "outputs": []
    },
    {
      "cell_type": "code",
      "source": [
        "print(paths.iloc[0,0:1])"
      ],
      "metadata": {
        "colab": {
          "base_uri": "https://localhost:8080/"
        },
        "id": "T4IhfC1SJ9dO",
        "outputId": "0d97911b-769d-48c1-92b3-ba5f8606f25e"
      },
      "execution_count": 5,
      "outputs": [
        {
          "output_type": "stream",
          "name": "stdout",
          "text": [
            "path    wavs/speakers/xRQE5VD7rRHVdyvM/7372ca00-45c4-1...\n",
            "Name: 0, dtype: object\n"
          ]
        }
      ]
    },
    {
      "cell_type": "code",
      "source": [
        "print(paths)"
      ],
      "metadata": {
        "colab": {
          "base_uri": "https://localhost:8080/"
        },
        "id": "FtSAVhF3LHC1",
        "outputId": "5c2a667d-0ab1-4c84-8f15-989b4e9bb878"
      },
      "execution_count": 6,
      "outputs": [
        {
          "output_type": "stream",
          "name": "stdout",
          "text": [
            "                                                    path\n",
            "0      wavs/speakers/xRQE5VD7rRHVdyvM/7372ca00-45c4-1...\n",
            "1      wavs/speakers/R3mexpM2YAtdPbL7/dae28110-44fe-1...\n",
            "2      wavs/speakers/ZebMRl5Z7dhrPKRD/b55dcfd0-455d-1...\n",
            "3      wavs/speakers/ppzZqYxGkESMdA5Az/61c54a20-4476-...\n",
            "4      wavs/speakers/zaEBPeMY4NUbDnZy/8ef57ec0-44df-1...\n",
            "...                                                  ...\n",
            "11561  wavs/speakers/BvyakyrDmQfWEABb/a59b2910-4609-1...\n",
            "11562  wavs/speakers/W4XOzzNEbrtZz4dW/aa186590-44d1-1...\n",
            "11563  wavs/speakers/xwpvGaaWl5c3G5N3/6e189850-45ba-1...\n",
            "11564  wavs/speakers/zaEBPeMY4NUbDnZy/3fd3a020-44d4-1...\n",
            "11565  wavs/speakers/zaEBPeMY4NUbDnZy/3c3d7250-44da-1...\n",
            "\n",
            "[11566 rows x 1 columns]\n"
          ]
        }
      ]
    },
    {
      "cell_type": "code",
      "source": [
        "print((str(paths.iloc[0,0:1])))"
      ],
      "metadata": {
        "colab": {
          "base_uri": "https://localhost:8080/"
        },
        "id": "fxUkRnoNnfD-",
        "outputId": "250cd04d-741c-4c85-bd4c-42b85339976c"
      },
      "execution_count": 18,
      "outputs": [
        {
          "output_type": "stream",
          "name": "stdout",
          "text": [
            "path    wavs/speakers/xRQE5VD7rRHVdyvM/7372ca00-45c4-1...\n",
            "Name: 0, dtype: object\n"
          ]
        }
      ]
    },
    {
      "cell_type": "code",
      "source": [
        "print(str(paths.iloc[0,0]))"
      ],
      "metadata": {
        "colab": {
          "base_uri": "https://localhost:8080/"
        },
        "id": "sXzHhHAgomG_",
        "outputId": "402df005-e9ae-4855-a34c-2220116bca0b"
      },
      "execution_count": 21,
      "outputs": [
        {
          "output_type": "stream",
          "name": "stdout",
          "text": [
            "wavs/speakers/xRQE5VD7rRHVdyvM/7372ca00-45c4-11e9-8ec0-7bf21d1cfe30.wav\n"
          ]
        }
      ]
    },
    {
      "cell_type": "code",
      "source": [
        "print(type(X_train))"
      ],
      "metadata": {
        "colab": {
          "base_uri": "https://localhost:8080/"
        },
        "id": "0_cnZ6karT4o",
        "outputId": "61a4c7be-3a55-4328-b172-2717b63ab356"
      },
      "execution_count": 24,
      "outputs": [
        {
          "output_type": "stream",
          "name": "stdout",
          "text": [
            "<class 'numpy.ndarray'>\n"
          ]
        }
      ]
    },
    {
      "cell_type": "code",
      "source": [
        "list=[]\n",
        "for i in range(0,11566):\n",
        "  harvad = sr.AudioFile('/content/drive/MyDrive/' + str(paths.iloc[i,0]))\n",
        "  with harvad as source:\n",
        "    audio = r.record(source)\n",
        "  val = r.recognize_google(audio)\n",
        " # X_train.iloc[i,0] = val\n",
        "  list.append(val)\n",
        "  print(val, end='\\n')\n"
      ],
      "metadata": {
        "id": "7p8LhfS1GwH-",
        "colab": {
          "base_uri": "https://localhost:8080/",
          "height": 738
        },
        "outputId": "df84b9b4-1771-4fff-817a-6bcdd4644f01"
      },
      "execution_count": 31,
      "outputs": [
        {
          "output_type": "stream",
          "name": "stdout",
          "text": [
            "turn on the kitchen lights\n",
            "turn up the temperature\n",
            "okay now switch my main language to Chinese\n",
            "turn on the bottom temperature\n",
            "change the language\n",
            "turn sound down\n",
            "decrease the heating in the washroom\n",
            "it's too loud turn it down\n",
            "change language\n",
            "turn the lights on in the kitchen\n",
            "decrease the heating in the bedroom\n",
            "Nordstrom\n",
            "decrease the heating in the bedroom\n",
            "turn the bedroom heat up\n",
            "increase the temperature\n",
            "is there anything in the washroom\n",
            "turn down to watch room temperature\n",
            "turn the temperature down in the bathroom\n",
            "turn the temperature down in a washroom\n",
            "set the language\n",
            "he dumb\n",
            "I need to practice my English switch the language\n"
          ]
        },
        {
          "output_type": "error",
          "ename": "UnknownValueError",
          "evalue": "ignored",
          "traceback": [
            "\u001b[0;31m---------------------------------------------------------------------------\u001b[0m",
            "\u001b[0;31mUnknownValueError\u001b[0m                         Traceback (most recent call last)",
            "\u001b[0;32m<ipython-input-31-98a5368a51bc>\u001b[0m in \u001b[0;36m<module>\u001b[0;34m()\u001b[0m\n\u001b[1;32m      4\u001b[0m   \u001b[0;32mwith\u001b[0m \u001b[0mharvad\u001b[0m \u001b[0;32mas\u001b[0m \u001b[0msource\u001b[0m\u001b[0;34m:\u001b[0m\u001b[0;34m\u001b[0m\u001b[0;34m\u001b[0m\u001b[0m\n\u001b[1;32m      5\u001b[0m     \u001b[0maudio\u001b[0m \u001b[0;34m=\u001b[0m \u001b[0mr\u001b[0m\u001b[0;34m.\u001b[0m\u001b[0mrecord\u001b[0m\u001b[0;34m(\u001b[0m\u001b[0msource\u001b[0m\u001b[0;34m)\u001b[0m\u001b[0;34m\u001b[0m\u001b[0;34m\u001b[0m\u001b[0m\n\u001b[0;32m----> 6\u001b[0;31m   \u001b[0mval\u001b[0m \u001b[0;34m=\u001b[0m \u001b[0mr\u001b[0m\u001b[0;34m.\u001b[0m\u001b[0mrecognize_google\u001b[0m\u001b[0;34m(\u001b[0m\u001b[0maudio\u001b[0m\u001b[0;34m)\u001b[0m\u001b[0;34m\u001b[0m\u001b[0;34m\u001b[0m\u001b[0m\n\u001b[0m\u001b[1;32m      7\u001b[0m  \u001b[0;31m# X_train.iloc[i,0] = val\u001b[0m\u001b[0;34m\u001b[0m\u001b[0;34m\u001b[0m\u001b[0;34m\u001b[0m\u001b[0m\n\u001b[1;32m      8\u001b[0m   \u001b[0mlist\u001b[0m\u001b[0;34m.\u001b[0m\u001b[0mappend\u001b[0m\u001b[0;34m(\u001b[0m\u001b[0mval\u001b[0m\u001b[0;34m)\u001b[0m\u001b[0;34m\u001b[0m\u001b[0;34m\u001b[0m\u001b[0m\n",
            "\u001b[0;32m/usr/local/lib/python3.7/dist-packages/speech_recognition/__init__.py\u001b[0m in \u001b[0;36mrecognize_google\u001b[0;34m(self, audio_data, key, language, show_all)\u001b[0m\n\u001b[1;32m    856\u001b[0m         \u001b[0;31m# return results\u001b[0m\u001b[0;34m\u001b[0m\u001b[0;34m\u001b[0m\u001b[0;34m\u001b[0m\u001b[0m\n\u001b[1;32m    857\u001b[0m         \u001b[0;32mif\u001b[0m \u001b[0mshow_all\u001b[0m\u001b[0;34m:\u001b[0m \u001b[0;32mreturn\u001b[0m \u001b[0mactual_result\u001b[0m\u001b[0;34m\u001b[0m\u001b[0;34m\u001b[0m\u001b[0m\n\u001b[0;32m--> 858\u001b[0;31m         \u001b[0;32mif\u001b[0m \u001b[0;32mnot\u001b[0m \u001b[0misinstance\u001b[0m\u001b[0;34m(\u001b[0m\u001b[0mactual_result\u001b[0m\u001b[0;34m,\u001b[0m \u001b[0mdict\u001b[0m\u001b[0;34m)\u001b[0m \u001b[0;32mor\u001b[0m \u001b[0mlen\u001b[0m\u001b[0;34m(\u001b[0m\u001b[0mactual_result\u001b[0m\u001b[0;34m.\u001b[0m\u001b[0mget\u001b[0m\u001b[0;34m(\u001b[0m\u001b[0;34m\"alternative\"\u001b[0m\u001b[0;34m,\u001b[0m \u001b[0;34m[\u001b[0m\u001b[0;34m]\u001b[0m\u001b[0;34m)\u001b[0m\u001b[0;34m)\u001b[0m \u001b[0;34m==\u001b[0m \u001b[0;36m0\u001b[0m\u001b[0;34m:\u001b[0m \u001b[0;32mraise\u001b[0m \u001b[0mUnknownValueError\u001b[0m\u001b[0;34m(\u001b[0m\u001b[0;34m)\u001b[0m\u001b[0;34m\u001b[0m\u001b[0;34m\u001b[0m\u001b[0m\n\u001b[0m\u001b[1;32m    859\u001b[0m \u001b[0;34m\u001b[0m\u001b[0m\n\u001b[1;32m    860\u001b[0m         \u001b[0;32mif\u001b[0m \u001b[0;34m\"confidence\"\u001b[0m \u001b[0;32min\u001b[0m \u001b[0mactual_result\u001b[0m\u001b[0;34m[\u001b[0m\u001b[0;34m\"alternative\"\u001b[0m\u001b[0;34m]\u001b[0m\u001b[0;34m:\u001b[0m\u001b[0;34m\u001b[0m\u001b[0;34m\u001b[0m\u001b[0m\n",
            "\u001b[0;31mUnknownValueError\u001b[0m: "
          ]
        }
      ]
    },
    {
      "cell_type": "code",
      "source": [
        "X_train=np.array(list)\n",
        "print(X_train_temp.shape)\n",
        "X_train=X_train.reshape(11566,1)"
      ],
      "metadata": {
        "colab": {
          "base_uri": "https://localhost:8080/",
          "height": 217
        },
        "id": "8dBygIOYwjvR",
        "outputId": "a3e5d05e-388d-45b1-848b-66728adff2c6"
      },
      "execution_count": 37,
      "outputs": [
        {
          "output_type": "stream",
          "name": "stdout",
          "text": [
            "(11566, 1)\n"
          ]
        },
        {
          "output_type": "error",
          "ename": "ValueError",
          "evalue": "ignored",
          "traceback": [
            "\u001b[0;31m---------------------------------------------------------------------------\u001b[0m",
            "\u001b[0;31mValueError\u001b[0m                                Traceback (most recent call last)",
            "\u001b[0;32m<ipython-input-37-8713434ef00d>\u001b[0m in \u001b[0;36m<module>\u001b[0;34m()\u001b[0m\n\u001b[1;32m      1\u001b[0m \u001b[0mX_train\u001b[0m\u001b[0;34m=\u001b[0m\u001b[0mnp\u001b[0m\u001b[0;34m.\u001b[0m\u001b[0marray\u001b[0m\u001b[0;34m(\u001b[0m\u001b[0mlist\u001b[0m\u001b[0;34m)\u001b[0m\u001b[0;34m\u001b[0m\u001b[0;34m\u001b[0m\u001b[0m\n\u001b[1;32m      2\u001b[0m \u001b[0mprint\u001b[0m\u001b[0;34m(\u001b[0m\u001b[0mX_train_temp\u001b[0m\u001b[0;34m.\u001b[0m\u001b[0mshape\u001b[0m\u001b[0;34m)\u001b[0m\u001b[0;34m\u001b[0m\u001b[0;34m\u001b[0m\u001b[0m\n\u001b[0;32m----> 3\u001b[0;31m \u001b[0mX_train\u001b[0m\u001b[0;34m=\u001b[0m\u001b[0mX_train\u001b[0m\u001b[0;34m.\u001b[0m\u001b[0mreshape\u001b[0m\u001b[0;34m(\u001b[0m\u001b[0;36m11566\u001b[0m\u001b[0;34m,\u001b[0m\u001b[0;36m1\u001b[0m\u001b[0;34m)\u001b[0m\u001b[0;34m\u001b[0m\u001b[0;34m\u001b[0m\u001b[0m\n\u001b[0m",
            "\u001b[0;31mValueError\u001b[0m: cannot reshape array of size 22 into shape (11566,1)"
          ]
        }
      ]
    },
    {
      "cell_type": "code",
      "source": [
        "(print(type(val))"
      ],
      "metadata": {
        "colab": {
          "base_uri": "https://localhost:8080/",
          "height": 130
        },
        "id": "xYJtoM7iuEbz",
        "outputId": "94d056a8-32e4-451f-c16f-147e810156f8"
      },
      "execution_count": 34,
      "outputs": [
        {
          "output_type": "error",
          "ename": "SyntaxError",
          "evalue": "ignored",
          "traceback": [
            "\u001b[0;36m  File \u001b[0;32m\"<ipython-input-34-74ce7df180e1>\"\u001b[0;36m, line \u001b[0;32m1\u001b[0m\n\u001b[0;31m    (print(type(val))\u001b[0m\n\u001b[0m                     ^\u001b[0m\n\u001b[0;31mSyntaxError\u001b[0m\u001b[0;31m:\u001b[0m unexpected EOF while parsing\n"
          ]
        }
      ]
    },
    {
      "cell_type": "code",
      "source": [
        ")from google.colab import drive\n",
        "drive.mount('/content/drive')"
      ],
      "metadata": {
        "colab": {
          "base_uri": "https://localhost:8080/",
          "height": 130
        },
        "id": "OOrzKXnNfi1e",
        "outputId": "9bab95c1-44d8-4ecf-be8a-7c69c1c8ae15"
      },
      "execution_count": 38,
      "outputs": [
        {
          "output_type": "error",
          "ename": "SyntaxError",
          "evalue": "ignored",
          "traceback": [
            "\u001b[0;36m  File \u001b[0;32m\"<ipython-input-38-70a5439bbb4e>\"\u001b[0;36m, line \u001b[0;32m1\u001b[0m\n\u001b[0;31m    )from google.colab import drive\u001b[0m\n\u001b[0m    ^\u001b[0m\n\u001b[0;31mSyntaxError\u001b[0m\u001b[0;31m:\u001b[0m invalid syntax\n"
          ]
        }
      ]
    },
    {
      "cell_type": "code",
      "source": [
        "from google.colab import drive\n",
        "drive.mount('/content/drive')"
      ],
      "metadata": {
        "colab": {
          "base_uri": "https://localhost:8080/"
        },
        "id": "JiV0bPc2yF8l",
        "outputId": "672b3e88-679e-414a-fc3e-a3bd3b7138ea"
      },
      "execution_count": 39,
      "outputs": [
        {
          "output_type": "stream",
          "name": "stdout",
          "text": [
            "Drive already mounted at /content/drive; to attempt to forcibly remount, call drive.mount(\"/content/drive\", force_remount=True).\n"
          ]
        }
      ]
    },
    {
      "cell_type": "code",
      "source": [
        "print(len(X_train))\n",
        "print(len(paths))"
      ],
      "metadata": {
        "colab": {
          "base_uri": "https://localhost:8080/"
        },
        "id": "ZU8rsKfPrC5a",
        "outputId": "e0dd63ea-212e-4fb5-83e4-7f099c52d234"
      },
      "execution_count": null,
      "outputs": [
        {
          "output_type": "stream",
          "name": "stdout",
          "text": [
            "11566\n",
            "11566\n"
          ]
        }
      ]
    },
    {
      "cell_type": "markdown",
      "source": [
        "## Data preprocessing"
      ],
      "metadata": {
        "id": "MDsW7BwzPSRK"
      }
    },
    {
      "cell_type": "code",
      "source": [
        "import re\n",
        "import nltk\n",
        "nltk.download('stopwords')\n",
        "from nltk.corpus import stopwords\n",
        "from nltk.stem.porter import PorterStemmer\n",
        "corpus = []\n",
        "for i in range(0, 11566):\n",
        "  review = re.sub('[^a-zA-Z]', ' ', dataset_train['transcription'][i])\n",
        "  review = review.lower()\n",
        "  review = review.split()\n",
        "  ps = PorterStemmer()\n",
        "  all_stopwords = stopwords.words('english')\n",
        "  all_stopwords.remove('not')\n",
        "  review = [ps.stem(word) for word in review if not word in set(all_stopwords)]\n",
        "  review = ' '.join(review)\n",
        "  corpus.append(review)"
      ],
      "metadata": {
        "colab": {
          "base_uri": "https://localhost:8080/"
        },
        "id": "X0jNVwQNxJqo",
        "outputId": "fa725abc-2556-4cbf-9392-6f28a534835e"
      },
      "execution_count": null,
      "outputs": [
        {
          "output_type": "stream",
          "name": "stdout",
          "text": [
            "[nltk_data] Downloading package stopwords to /root/nltk_data...\n",
            "[nltk_data]   Package stopwords is already up-to-date!\n"
          ]
        }
      ]
    },
    {
      "cell_type": "code",
      "source": [
        "print(len(corpus))"
      ],
      "metadata": {
        "colab": {
          "base_uri": "https://localhost:8080/"
        },
        "id": "dvodLYi8yNky",
        "outputId": "3edb02a3-5150-44e2-912e-a74adaadad27"
      },
      "execution_count": null,
      "outputs": [
        {
          "output_type": "stream",
          "name": "stdout",
          "text": [
            "11566\n"
          ]
        }
      ]
    },
    {
      "cell_type": "markdown",
      "source": [
        "## Initializing & traning model"
      ],
      "metadata": {
        "id": "r0lRHzLtPZc8"
      }
    },
    {
      "cell_type": "code",
      "source": [
        "from sklearn.feature_extraction.text import CountVectorizer\n",
        "cv = CountVectorizer(max_features = 1500)\n",
        "X = cv.fit_transform(corpus).toarray()\n",
        "y1 = dataset_train.iloc[:, 2].values\n",
        "y2 = dataset_train.iloc[:, 3].values\n",
        "y3 = dataset_train.iloc[:, 4].values"
      ],
      "metadata": {
        "id": "TLj3ZIJEyhae"
      },
      "execution_count": null,
      "outputs": []
    },
    {
      "cell_type": "code",
      "source": [
        "print(len(y1))"
      ],
      "metadata": {
        "colab": {
          "base_uri": "https://localhost:8080/"
        },
        "id": "W_qYNgpfzvvr",
        "outputId": "a13f1ca6-45fd-49bc-c847-0a2f719af003"
      },
      "execution_count": null,
      "outputs": [
        {
          "output_type": "stream",
          "name": "stdout",
          "text": [
            "11566\n"
          ]
        }
      ]
    },
    {
      "cell_type": "code",
      "source": [
        "from sklearn.model_selection import train_test_split\n",
        "X_train1, X_test1, y_train1, y_test1 = train_test_split(X, y1, test_size = 0.20, random_state = 0)\n",
        "X_train2, X_test2, y_train2, y_test2 = train_test_split(X, y2, test_size = 0.20, random_state = 0)\n",
        "X_train3, X_test3, y_train3, y_test3 = train_test_split(X, y3, test_size = 0.20, random_state = 0)"
      ],
      "metadata": {
        "id": "lu5WnUzsyxN9"
      },
      "execution_count": null,
      "outputs": []
    },
    {
      "cell_type": "code",
      "source": [
        "from sklearn.naive_bayes import GaussianNB\n",
        "classifier1 = GaussianNB()\n",
        "classifier2 = GaussianNB()\n",
        "classifier3 = GaussianNB()\n",
        "classifier1.fit(X_train1, y_train1)\n",
        "classifier2.fit(X_train2, y_train2)\n",
        "classifier3.fit(X_train3, y_train3)"
      ],
      "metadata": {
        "colab": {
          "base_uri": "https://localhost:8080/"
        },
        "id": "FQ1wlBHTzOdT",
        "outputId": "8b32200f-e1ba-43c4-ffc1-b4c39ac84de7"
      },
      "execution_count": null,
      "outputs": [
        {
          "output_type": "execute_result",
          "data": {
            "text/plain": [
              "GaussianNB()"
            ]
          },
          "metadata": {},
          "execution_count": 34
        }
      ]
    },
    {
      "cell_type": "markdown",
      "source": [
        "## prediction"
      ],
      "metadata": {
        "id": "5WwghjNgPsmr"
      }
    },
    {
      "cell_type": "code",
      "source": [
        "y_pred1 = classifier1.predict(X_test1)\n",
        "y_pred2 = classifier1.predict(X_test2)\n",
        "y_pred3 = classifier1.predict(X_test3)\n",
        "print(np.concatenate((y_pred1.reshape(len(y_pred1),1), y_test1.reshape(len(y_test1),1)),1))\n",
        "print(np.concatenate((y_pred2.reshape(len(y_pred2),1), y_test2.reshape(len(y_test2),1)),1))\n",
        "print(np.concatenate((y_pred3.reshape(len(y_pred3),1), y_test3.reshape(len(y_test3),1)),1))"
      ],
      "metadata": {
        "colab": {
          "base_uri": "https://localhost:8080/"
        },
        "id": "aumf_yzz1CCk",
        "outputId": "443c9c73-871c-4679-ff12-4f208e78a8ed"
      },
      "execution_count": null,
      "outputs": [
        {
          "output_type": "stream",
          "name": "stdout",
          "text": [
            "[['increase' 'increase']\n",
            " ['activate' 'activate']\n",
            " ['increase' 'increase']\n",
            " ...\n",
            " ['increase' 'increase']\n",
            " ['decrease' 'decrease']\n",
            " ['decrease' 'increase']]\n",
            "[['increase' 'volume']\n",
            " ['activate' 'lights']\n",
            " ['increase' 'volume']\n",
            " ...\n",
            " ['increase' 'volume']\n",
            " ['decrease' 'heat']\n",
            " ['decrease' 'heat']]\n",
            "[['increase' 'none']\n",
            " ['activate' 'washroom']\n",
            " ['increase' 'none']\n",
            " ...\n",
            " ['increase' 'none']\n",
            " ['decrease' 'none']\n",
            " ['decrease' 'bedroom']]\n"
          ]
        }
      ]
    },
    {
      "cell_type": "code",
      "source": [
        "from sklearn.metrics import confusion_matrix, accuracy_score,f1_score\n",
        "cm1 = confusion_matrix(y_test1, y_pred1)\n",
        "print(cm1)\n",
        "accuracy_score(y_test1, y_pred1)\n"
      ],
      "metadata": {
        "colab": {
          "base_uri": "https://localhost:8080/"
        },
        "id": "1KdNTaJ71CvX",
        "outputId": "d5c57a54-4290-4e7e-ad86-9f5b5080c2e1"
      },
      "execution_count": null,
      "outputs": [
        {
          "output_type": "stream",
          "name": "stdout",
          "text": [
            "[[131   0   0 244   0   0]\n",
            " [  0 209   0   0   0   0]\n",
            " [  0   0 271   0   0   0]\n",
            " [  0   0   0 342   0   0]\n",
            " [  0   0   0   6 534  10]\n",
            " [  0   0   0   7 264 296]]\n"
          ]
        },
        {
          "output_type": "execute_result",
          "data": {
            "text/plain": [
              "0.7705272255834054"
            ]
          },
          "metadata": {},
          "execution_count": 71
        }
      ]
    },
    {
      "cell_type": "code",
      "source": [
        "f1_score(y_test1, y_pred1, average=None)"
      ],
      "metadata": {
        "colab": {
          "base_uri": "https://localhost:8080/"
        },
        "id": "ubKcvK9YYF7f",
        "outputId": "662bad49-fa1d-41e6-c335-42ed31a42590"
      },
      "execution_count": null,
      "outputs": [
        {
          "output_type": "execute_result",
          "data": {
            "text/plain": [
              "array([0.51778656, 1.        , 1.        , 0.72688629, 0.79228487,\n",
              "       0.67812142])"
            ]
          },
          "metadata": {},
          "execution_count": 72
        }
      ]
    },
    {
      "cell_type": "code",
      "source": [
        "import pickle\n",
        "filename = 'khushi_model.sac'\n",
        "pickle.dump(classifier1, open(filename, 'wb'))"
      ],
      "metadata": {
        "id": "gZSemp2NWv-i"
      },
      "execution_count": null,
      "outputs": []
    },
    {
      "cell_type": "markdown",
      "source": [
        "## Rought setting "
      ],
      "metadata": {
        "id": "8c4K-E-_xLlQ"
      }
    },
    {
      "cell_type": "code",
      "source": [
        "Y_train_lb1 = dataset_train.iloc[:,2] # action label\n",
        "Y_train_lb2 = dataset_train.iloc[:,3] # Object label\n",
        "Y_train_lb3 = dataset_train.iloc[:,4] # Location label"
      ],
      "metadata": {
        "id": "ZkuciKuOrV9j"
      },
      "execution_count": null,
      "outputs": []
    },
    {
      "cell_type": "code",
      "source": [
        "labels_lb1 = set()\n",
        "labels_lb2 = set()\n",
        "labels_lb3 = set()\n",
        "for label in Y_train_lb1:\n",
        "        if label not in labels_lb1:\n",
        "            labels_lb1.add(label)\n",
        "for label in Y_train_lb2:\n",
        "        if label not in labels_lb2:\n",
        "            labels_lb2.add(label)\n",
        "for label in Y_train_lb3:\n",
        "        if label not in labels_lb3:\n",
        "            labels_lb3.add(label)\n"
      ],
      "metadata": {
        "id": "qVL-3bjatoD7"
      },
      "execution_count": null,
      "outputs": []
    },
    {
      "cell_type": "code",
      "source": [
        "print(labels_lb1)\n",
        "print(len(labels_lb1))\n",
        "print(len(labels_lb2))\n",
        "print(len(labels_lb3))"
      ],
      "metadata": {
        "colab": {
          "base_uri": "https://localhost:8080/"
        },
        "id": "Zl94_IDLvPB6",
        "outputId": "0194b2e2-a716-4128-f206-2079cecc65d1"
      },
      "execution_count": null,
      "outputs": [
        {
          "output_type": "stream",
          "name": "stdout",
          "text": [
            "{'decrease', 'bring', 'increase', 'activate', 'deactivate', 'change language'}\n",
            "6\n",
            "14\n",
            "4\n"
          ]
        }
      ]
    }
  ]
}